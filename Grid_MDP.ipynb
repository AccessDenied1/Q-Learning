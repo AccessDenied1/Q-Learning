{
  "nbformat": 4,
  "nbformat_minor": 0,
  "metadata": {
    "colab": {
      "name": "Grid_MDP.ipynb",
      "provenance": [],
      "collapsed_sections": [],
      "include_colab_link": true
    },
    "kernelspec": {
      "name": "python3",
      "display_name": "Python 3"
    }
  },
  "cells": [
    {
      "cell_type": "markdown",
      "metadata": {
        "id": "view-in-github",
        "colab_type": "text"
      },
      "source": [
        "<a href=\"https://colab.research.google.com/github/AccessDenied1/QL/blob/master/Grid_MDP.ipynb\" target=\"_parent\"><img src=\"https://colab.research.google.com/assets/colab-badge.svg\" alt=\"Open In Colab\"/></a>"
      ]
    },
    {
      "cell_type": "code",
      "metadata": {
        "id": "YuOyQvLBXK4i",
        "colab_type": "code",
        "outputId": "1aa307dc-3158-45c7-91d2-be0f81d109f0",
        "colab": {
          "base_uri": "https://localhost:8080/",
          "height": 625
        }
      },
      "source": [
        "import numpy as np\n",
        "A=['↓','➡','↑','←']\n",
        "X=10\n",
        "Y=10\n",
        "P=0.9\n",
        "gx=5\n",
        "gy=5\n",
        "R=np.zeros((X,Y))\n",
        "R[gx][gy]=1\n",
        "# no_of_block=input(\"Enter no of block state = \")\n",
        "# for i in range(no_of_block):\n",
        "# bl_x=input(\"Enter the x-cordinate = \")\n",
        "# bl_y=input(\"Enter the y-cordinate = \")\n",
        "# R[bl_x][bl_y]=-1000.0\n",
        "R[4][4]=-1.0\n",
        "R[4][5]=-1.0\n",
        "R[4][6]=-1.0\n",
        "R[5][4]=-1.0\n",
        "R[5][6]=-1.0\n",
        "pol=np.zeros((X,Y),dtype=str)\n",
        "class MDP:\n",
        "  def neigh(self,x,y):\n",
        "    neig=[]\n",
        "    d=0.0\n",
        "    r=0.0\n",
        "    u=0.0\n",
        "    l=0.0\n",
        "    if(x+1<X):\n",
        "      d+=1\n",
        "    if(y+1<Y):\n",
        "      r+=1\n",
        "    if(x-1>-1):\n",
        "      u+=1\n",
        "    if(y-1>-1):\n",
        "      l+=1\n",
        "    return [d,r,u,l]\n",
        "  def prob(self,x,y,a):\n",
        "    N=self.neigh(x,y)\n",
        "    N_len=sum(N)-1.0\n",
        "    pr=[0.0,0.0,0.0,0.0]\n",
        "    pr[a]=P*N[a]\n",
        "    for i in range(4):\n",
        "      if(i!=a and pr[a]!=0):\n",
        "        pr[i]=((1.0-P)/N_len)*N[i]\n",
        "    return pr\n",
        "  def BELL(self,V):\n",
        "    s_x=[1,0,-1,0]\n",
        "    s_y=[0,1,0,-1]\n",
        "    maxx=-100.0\n",
        "    s=0.0\n",
        "    pi='0'\n",
        "    for x in range(X):\n",
        "      for y in range(Y):\n",
        "        for j in range(4):\n",
        "          pr=self.prob(x,y,j)\n",
        "          for p in range(4):\n",
        "            if(pr[p]!=0):\n",
        "              s+=pr[p]*V[x+s_x[p]][y+s_y[p]]\n",
        "          s=R[x][y]+0.7*s\n",
        "          if(s>maxx):\n",
        "            maxx=s\n",
        "            pi=A[j]\n",
        "          s=0.0\n",
        "        V[x][y]=maxx\n",
        "        maxx=-100.0\n",
        "        pol[x][y]=pi\n",
        "    return V      \n",
        "obj=MDP()\n",
        "#print(obj.prob(2,2,3))\n",
        "V=np.zeros((X,Y),dtype=np.float16)\n",
        "for i in range(100):\n",
        "  V2=obj.BELL(V)\n",
        "  V=V2.copy()\n",
        "pol[4][4]='X'\n",
        "pol[4][5]='X'\n",
        "pol[4][6]='X'\n",
        "pol[5][4]='X'\n",
        "pol[5][6]='X'\n",
        "pol[3][4]='X'\n",
        "pol[4][3]='X'\n",
        "pol[gx][gy]='G'\n",
        "print(\"Goal is G\")\n",
        "print(\"X is blocked\")\n",
        "print(pol)\n",
        "print(\"\\nThis is reward matrix\\n\")\n",
        "print(V2)\n"
      ],
      "execution_count": 12,
      "outputs": [
        {
          "output_type": "stream",
          "text": [
            "Goal is G\n",
            "X is blocked\n",
            "[['↓' '↓' '↓' '↓' '↓' '↓' '↓' '↓' '↓' '↓']\n",
            " ['↓' '↓' '↓' '↓' '↓' '↓' '↓' '↓' '↓' '↓']\n",
            " ['↓' '↓' '↓' '↓' '←' '➡' '➡' '↓' '↓' '↓']\n",
            " ['↓' '↓' '↓' '↓' 'X' '➡' '➡' '↓' '↓' '↓']\n",
            " ['↓' '↓' '↓' 'X' 'X' 'X' 'X' '↓' '↓' '↓']\n",
            " ['➡' '➡' '↓' '↓' 'X' 'G' 'X' '↓' '↓' '←']\n",
            " ['➡' '➡' '➡' '➡' '➡' '↑' '←' '←' '←' '←']\n",
            " ['➡' '➡' '➡' '➡' '➡' '↑' '←' '←' '←' '←']\n",
            " ['➡' '➡' '➡' '➡' '↑' '↑' '↑' '←' '←' '↑']\n",
            " ['➡' '➡' '➡' '➡' '↑' '↑' '↑' '←' '←' '←']]\n",
            "\n",
            "This is reward matrix\n",
            "\n",
            "[[ 0.01498  0.02078  0.02983  0.03616  0.02516  0.01794  0.02518  0.0362\n",
            "   0.02994  0.02211]\n",
            " [ 0.02147  0.03049  0.0442   0.05435  0.03693  0.02568  0.03696  0.05438\n",
            "   0.04428  0.03177]\n",
            " [ 0.03156  0.0452   0.0659   0.0819   0.05472  0.03735  0.05478  0.082\n",
            "   0.066    0.04675]\n",
            " [ 0.0464   0.067    0.09827  0.12354  0.05957  0.04086  0.05966  0.12366\n",
            "   0.0983   0.0688 ]\n",
            " [ 0.0682   0.0993   0.1465   0.1873  -0.8774   0.04404 -0.8774   0.1874\n",
            "   0.1465   0.10114]\n",
            " [ 0.1001   0.1472   0.2183   0.3198   0.0883   1.721    0.0883   0.3198\n",
            "   0.2183   0.1486 ]\n",
            " [ 0.1422   0.2144   0.3237   0.4895   0.7407   1.136    0.7407   0.4895\n",
            "   0.3237   0.2146 ]\n",
            " [ 0.10474  0.1544   0.2295   0.3408   0.506    0.7505   0.506    0.3408\n",
            "   0.2295   0.1558 ]\n",
            " [ 0.0715   0.1048   0.1553   0.2301   0.341    0.4963   0.341    0.2301\n",
            "   0.1553   0.1062 ]\n",
            " [ 0.05112  0.0732   0.1075   0.158    0.2319   0.3289   0.2319   0.158\n",
            "   0.1076   0.0752 ]]\n"
          ],
          "name": "stdout"
        }
      ]
    },
    {
      "cell_type": "code",
      "metadata": {
        "id": "hkhfFnE-iPZ_",
        "colab_type": "code",
        "colab": {}
      },
      "source": [
        ""
      ],
      "execution_count": 0,
      "outputs": []
    }
  ]
}