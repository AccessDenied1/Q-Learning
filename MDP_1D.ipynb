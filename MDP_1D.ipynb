{
  "nbformat": 4,
  "nbformat_minor": 0,
  "metadata": {
    "colab": {
      "name": "MDP_1D.ipynb",
      "provenance": [],
      "collapsed_sections": [],
      "include_colab_link": true
    },
    "kernelspec": {
      "name": "python3",
      "display_name": "Python 3"
    }
  },
  "cells": [
    {
      "cell_type": "markdown",
      "metadata": {
        "id": "view-in-github",
        "colab_type": "text"
      },
      "source": [
        "<a href=\"https://colab.research.google.com/github/AccessDenied1/Q-Learning/blob/master/MDP_1D.ipynb\" target=\"_parent\"><img src=\"https://colab.research.google.com/assets/colab-badge.svg\" alt=\"Open In Colab\"/></a>"
      ]
    },
    {
      "cell_type": "code",
      "metadata": {
        "id": "b2jzJPtKzGIb",
        "colab_type": "code",
        "colab": {
          "base_uri": "https://localhost:8080/",
          "height": 333
        },
        "outputId": "9eed8d95-ea20-4b25-f0b4-d01cbd91658b"
      },
      "source": [
        "import numpy as np\n",
        "import pylab as plt\n",
        "n=5+2\n",
        "R=np.zeros((n))\n",
        "pol=np.zeros((n))\n",
        "pr_l=np.zeros((n*n)).reshape((n,n))\n",
        "pr_r=np.zeros((n*n)).reshape((n,n))\n",
        "R[1]=-1.0\n",
        "R[n-2]=1.0\n",
        "x=0.0\n",
        "y=0.0\n",
        "class MDP_1D():\n",
        "    def prob(self,s,p):\n",
        "        if(s!=1 and s!=n-2):\n",
        "            pr_l[s][s-1]=p\n",
        "            pr_l[s][s+1]=1.0-p\n",
        "            pr_r[s][s-1]=1.0-p\n",
        "            pr_r[s][s+1]=p\n",
        "    def mdp(self,V):\n",
        "        for s in range(1,n-1):\n",
        "            self.prob(s,0.6)\n",
        "            #print s\n",
        "            x=R[s]+(pr_l[s][s+1]*V[s+1]+pr_l[s][s-1]*V[s-1])\n",
        "            y=R[s]+(pr_r[s][s+1]*V[s+1]+pr_r[s][s-1]*V[s-1])\n",
        "            #print(x,y)\n",
        "            if(x>y):\n",
        "                V[s]=x\n",
        "                pol[s]=0\n",
        "            else:\n",
        "                V[s]=y\n",
        "                pol[s]=1\n",
        "        return V\n",
        "    def norm(self,v1,v2):\n",
        "        su=0\n",
        "        for i in range(n):\n",
        "            su+=(v1[i]-v2[i])**2\n",
        "        return np.sqrt(su)\n",
        "o=MDP_1D()\n",
        "V0=[0,56265,261235,-122556,-21156,-10,0]\n",
        "v_f=[]\n",
        "V_x=[]\n",
        "for i in range(100):\n",
        "    v1=o.mdp(V0)\n",
        "    v_f.append(v1)\n",
        "    V0=v1[:]\n",
        "for i in range(99):\n",
        "    V_x.append(o.norm(v_f[i],v_f[99]))\n",
        "#print V_x\n",
        "print(v_f[99])\n",
        "plt.title(\"Value iteration\")\n",
        "plt.plot(V_x)\n",
        "print(\"policy\")\n",
        "print(pol)\n"
      ],
      "execution_count": 2,
      "outputs": [
        {
          "output_type": "stream",
          "text": [
            "[0, -1.0, -0.16923076923076938, 0.3846153846153844, 0.7538461538461537, 1.0, 0]\n",
            "policy\n",
            "[0. 1. 1. 1. 1. 1. 0.]\n"
          ],
          "name": "stdout"
        },
        {
          "output_type": "display_data",
          "data": {
            "image/png": "[encoded data removed]",
            "text/plain": [
              "<Figure size 432x288 with 1 Axes>"
            ]
          },
          "metadata": {
            "tags": []
          }
        }
      ]
    },
    {
      "cell_type": "code",
      "metadata": {
        "id": "yLxYSThbH2qB",
        "colab_type": "code",
        "colab": {}
      },
      "source": [
        ""
      ],
      "execution_count": 0,
      "outputs": []
    }
  ]
}